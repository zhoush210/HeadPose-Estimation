{
 "cells": [
  {
   "cell_type": "code",
   "execution_count": null,
   "metadata": {
    "ExecuteTime": {
     "start_time": "2019-04-29T11:19:53.658Z"
    }
   },
   "outputs": [],
   "source": [
    "# coding=utf-8\n",
    "from matplotlib import pyplot as plt\n",
    "import cv2\n",
    "import numpy as np\n",
    "import dlib\n",
    "import time\n",
    "import math\n",
    "from mpl_toolkits.mplot3d import Axes3D\n",
    "import scipy\n",
    "from scipy.optimize import *"
   ]
  },
  {
   "cell_type": "code",
   "execution_count": null,
   "metadata": {
    "ExecuteTime": {
     "start_time": "2019-04-29T11:19:54.634Z"
    }
   },
   "outputs": [],
   "source": [
    "detector = dlib.get_frontal_face_detector()\n",
    "predictor = dlib.shape_predictor(\"shape_predictor_68_face_landmarks.dat\")\n",
    "POINTS_NUM_LANDMARK = 68"
   ]
  },
  {
   "cell_type": "markdown",
   "metadata": {},
   "source": [
    "## 1.dlib提取2D图片4个特征点"
   ]
  },
  {
   "cell_type": "code",
   "execution_count": null,
   "metadata": {
    "ExecuteTime": {
     "start_time": "2019-04-29T11:19:56.253Z"
    }
   },
   "outputs": [],
   "source": [
    "# 获取最大的人脸(get_landmark4函数内调用)\n",
    "def largest_face(faces):\n",
    "    '''\n",
    "    求最大的人脸\n",
    "    :param faces:detectors检测到的多个人脸的array\n",
    "    :return:最大人脸的index\n",
    "    '''\n",
    "    if len(faces) == 1:\n",
    "        return 0\n",
    "    face_areas = [(face.right() - face.left()) * (face.bottom() - face.top()) for face in faces]  # 求脸的大小\n",
    "    largest_area = face_areas[0]\n",
    "    largest_index = 0\n",
    "    for index in range(1, len(faces)):  # 取最大的脸\n",
    "        if face_areas[index] > largest_area:\n",
    "            largest_index = index\n",
    "            largest_area = face_areas[index]\n",
    "    print(\"largest_face index is {} in {} faces\".format(largest_index, len(faces)))\n",
    "    return largest_index"
   ]
  },
  {
   "cell_type": "code",
   "execution_count": null,
   "metadata": {
    "ExecuteTime": {
     "start_time": "2019-04-29T11:19:57.204Z"
    }
   },
   "outputs": [],
   "source": [
    "# 选取dlib检测的68点中的4个特征点\n",
    "def get_points_2D(img):\n",
    "    '''\n",
    "    用dlib获取人脸4个特征点\n",
    "    :param img: 输入图片\n",
    "    :return: 人脸4特征点的矩阵shape=(4,2)，若未检测到人脸，返回None\n",
    "    '''\n",
    "    faces = detector(img, 0)  # 检测图片中的所有人脸,网上都是1，cvdlib中是0\n",
    "    if len(faces) == 0:  # 没有检测到人脸\n",
    "        print(\"ERROR: found no face\")\n",
    "        return None\n",
    "    largest_index = largest_face(faces)  # 取最大人脸\n",
    "    face_rectangle = faces[largest_index]  # 取对应人脸框\n",
    "    landmark68 = predictor(img, face_rectangle)  # dlib检测人脸特征68点\n",
    "    points_2D = np.array([  # 取出68点中所需的7个点\n",
    "        (landmark68.part(36).x, landmark68.part(36).y),  # 左眼左眼角\n",
    "        (landmark68.part(45).x, landmark68.part(45).y),  # 右眼右眼角\n",
    "        (landmark68.part(30).x, landmark68.part(30).y),  # 鼻尖\n",
    "        (landmark68.part(8).x, landmark68.part(8).y)  # 下巴\n",
    "    ], dtype=\"double\")\n",
    "    return points_2D"
   ]
  },
  {
   "cell_type": "code",
   "execution_count": null,
   "metadata": {
    "ExecuteTime": {
     "start_time": "2019-04-29T11:19:59.901Z"
    }
   },
   "outputs": [],
   "source": [
    "# 注释4个标记点\n",
    "def annotate_points(img,point_2D):\n",
    "    '''\n",
    "    注释4个标记点\n",
    "    :param im: 输入图片,4个标记点\n",
    "    :return: 带有4个标记点的图片\n",
    "    '''\n",
    "    img_with_points = img.copy()\n",
    "    for point in point_2D:\n",
    "        point = (int(point[0]), int(point[1]))\n",
    "        cv2.circle(img_with_points, point, 3, color=(255, 0, 0),thickness=-1)\n",
    "    return img_with_points"
   ]
  },
  {
   "cell_type": "code",
   "execution_count": null,
   "metadata": {
    "ExecuteTime": {
     "start_time": "2019-04-29T11:20:00.901Z"
    },
    "scrolled": false
   },
   "outputs": [],
   "source": [
    "#-------------test--------------------------------------------------\n",
    "#读取图像\n",
    "img0 = cv2.imread('19.jpg')\n",
    "img0=cv2.resize(img0,(225,225))\n",
    "img = img0[:,:,::-1] # 调节色彩通道\n",
    "points_2D=get_points_2D(img)\n",
    "img_with_points=annotate_points(img,points_2D)\n",
    "plt.imshow(img)\n",
    "plt.show()\n",
    "plt.scatter(points_2D.T[0],points_2D.T[1])\n",
    "plt.title('points_2D')\n",
    "plt.show()"
   ]
  },
  {
   "cell_type": "markdown",
   "metadata": {},
   "source": [
    "## 2.手动构建4点人脸3D模型"
   ]
  },
  {
   "cell_type": "code",
   "execution_count": null,
   "metadata": {
    "ExecuteTime": {
     "start_time": "2019-04-29T11:19:46.683Z"
    }
   },
   "outputs": [],
   "source": [
    "# 手动构建4点人脸3D模型\n",
    "def model_3D():\n",
    "    '''\n",
    "    手动构建4点人脸3D模型，以鼻尖为坐标原点\n",
    "    :return: 3D模型4点矩阵 shape=(4,3)\n",
    "    '''\n",
    "    points_3D = np.array([\n",
    "        (-225.0, -170.0, -135.0),  # 左眼左眼角\n",
    "        (225.0, -170.0, -135.0),  # 右眼右眼角\n",
    "        (0.0, 0.0, 0.0),  # 鼻尖\n",
    "        (0.0, 330.0, -135.0)  #下巴\n",
    "    ])\n",
    "    return points_3D"
   ]
  },
  {
   "cell_type": "code",
   "execution_count": null,
   "metadata": {
    "ExecuteTime": {
     "start_time": "2019-04-29T11:06:42.918Z"
    }
   },
   "outputs": [],
   "source": [
    "#---------------------------test------------------------------------\n",
    "points_3D=model_3D()\n",
    "#print(points_3D)\n",
    "ax = plt.subplot(111, projection='3d')\n",
    "ax.scatter(points_3D.T[0],points_3D.T[1],points_3D.T[2])\n",
    "plt.title('points_3D')\n",
    "plt.show()"
   ]
  },
  {
   "cell_type": "markdown",
   "metadata": {},
   "source": [
    "## 3.归一化"
   ]
  },
  {
   "cell_type": "code",
   "execution_count": null,
   "metadata": {
    "ExecuteTime": {
     "start_time": "2019-04-29T11:06:43.264Z"
    }
   },
   "outputs": [],
   "source": [
    "# 归一化点\n",
    "def get_normalize(points):\n",
    "    '''\n",
    "    归一化点\n",
    "    :param 手动构建的3D模型(points_3D) 或 dlib检测到的4个特征点(points_2D)\n",
    "    :return: 归一化后的点矩阵\n",
    "    '''\n",
    "    center = np.sum(points, axis=0) / points.shape[0]  # 中心\n",
    "    L = np.sum(np.sum((points - center) ** 2, axis=1) ** 0.5)  # 归一化系数\n",
    "    normalize = (points - center) / L\n",
    "    return normalize, center, L"
   ]
  },
  {
   "cell_type": "code",
   "execution_count": null,
   "metadata": {
    "ExecuteTime": {
     "start_time": "2019-04-29T11:06:43.390Z"
    }
   },
   "outputs": [],
   "source": [
    "#------------------------------test---------------------------------\n",
    "normalize_3D,center_3D, L_3D=get_normalize(points_3D)\n",
    "normalize_2D,center_2D, L_2D=get_normalize(points_2D)\n",
    "print('normalize_3D=\\n',normalize_3D)\n",
    "print('normalize_2D=\\n',normalize_2D)\n",
    "bx = plt.subplot(111, projection='3d')\n",
    "bx.scatter(normalize_3D.T[0],normalize_3D.T[1],normalize_3D.T[2])\n",
    "bx.scatter(normalize_2D.T[0],normalize_2D.T[1])\n",
    "plt.title('normalize_3D / normalize_2D')\n",
    "plt.show()"
   ]
  },
  {
   "cell_type": "markdown",
   "metadata": {},
   "source": [
    "## 4.求投影矩阵P"
   ]
  },
  {
   "cell_type": "code",
   "execution_count": null,
   "metadata": {
    "ExecuteTime": {
     "start_time": "2019-04-29T11:06:43.693Z"
    }
   },
   "outputs": [],
   "source": [
    "# 求投影矩阵P\n",
    "def get_P_matrix(normalize_3D, normalize_2D):\n",
    "    num = normalize_2D.shape[0]\n",
    "    _ = 0  # _是要舍弃的值\n",
    "    if num < 3:\n",
    "        return -1\n",
    "    elif num == 3:\n",
    "        _, r1_T = cv2.solve(normalize_3D.T, normalize_2D.T[0], _)\n",
    "        _, r2_T = cv2.solve(normalize_3D.T,normalize_2D.T[1], _)\n",
    "    else:\n",
    "        _, r1_T = cv2.solve(normalize_3D, normalize_2D.T[0], _, cv2.DECOMP_SVD)  # 奇异值分解\n",
    "        _, r2_T = cv2.solve(normalize_3D, normalize_2D.T[1], _, cv2.DECOMP_SVD)\n",
    "    r1 = r1_T.T[0]\n",
    "    r2 = r2_T.T[0]\n",
    "    r3 = np.cross(r1, r2)\n",
    "    P = np.array([r1, r2])\n",
    "    return P"
   ]
  },
  {
   "cell_type": "code",
   "execution_count": null,
   "metadata": {
    "ExecuteTime": {
     "start_time": "2019-04-29T11:06:43.885Z"
    }
   },
   "outputs": [],
   "source": [
    "#------------------------------test---------------------------------\n",
    "P=get_P_matrix(normalize_3D,normalize_2D)\n",
    "print('P=\\n',P)"
   ]
  },
  {
   "cell_type": "markdown",
   "metadata": {},
   "source": [
    "## 5.优化Delta"
   ]
  },
  {
   "cell_type": "code",
   "execution_count": null,
   "metadata": {
    "ExecuteTime": {
     "start_time": "2019-04-29T11:06:44.168Z"
    }
   },
   "outputs": [],
   "source": [
    "def get_ball_center(normalize_3D):\n",
    "    '''\n",
    "    由4个点的坐标在球面上的关系式可转换成线性方程组的求解\n",
    "    （x-xi)^2+(y-yi)^2+(z-zi)^2=r^2,最终可转化成AX=b的求解，A为3*3,b为3*1\n",
    "    '''\n",
    "    _=0\n",
    "    if normalize_3D.shape[0]!=4:\n",
    "        return -1\n",
    "    A=np.array([(normalize_3D[0]-normalize_3D[1]),(normalize_3D[3]-normalize_3D[3]),(normalize_3D[1]-normalize_3D[2])])\n",
    "    tmp=np.array([np.sum(normalize_3D[0]**2),np.sum(normalize_3D[1]**2),np.sum(normalize_3D[2]**2),np.sum(normalize_3D[3]**2)])\n",
    "    b=1/2*np.array([(tmp[0]-tmp[1]),(tmp[2]-tmp[3]),(tmp[1]-tmp[2])])\n",
    "    _, X = cv2.solve(A, b, _, cv2.DECOMP_SVD)  # 奇异值分解\n",
    "    ball_center=np.array([X[0][0],X[1][0],X[2][0]])\n",
    "    return ball_center"
   ]
  },
  {
   "cell_type": "code",
   "execution_count": null,
   "metadata": {
    "ExecuteTime": {
     "start_time": "2019-04-29T11:06:44.311Z"
    }
   },
   "outputs": [],
   "source": [
    "ball_center=get_ball_center(normalize_3D)\n",
    "ball_center"
   ]
  },
  {
   "cell_type": "code",
   "execution_count": null,
   "metadata": {
    "ExecuteTime": {
     "start_time": "2019-04-29T11:06:44.464Z"
    }
   },
   "outputs": [],
   "source": [
    "#直角坐标系转球坐标系\n",
    "def xyz_to_ball(normalize_3D,ball_center):\n",
    "    normalize_3D_ball=np.zeros(normalize_3D.shape)  \n",
    "    for i in range(normalize_3D.shape[0]):\n",
    "        x=normalize_3D[i][0]-ball_center[0]\n",
    "        y=normalize_3D[i][1]-ball_center[1]\n",
    "        z=normalize_3D[i][2]-ball_center[2]\n",
    "        \n",
    "        r=(x**2+y**2+z**2)**0.5\n",
    "        \n",
    "        if x==0 :\n",
    "            if y==0:\n",
    "                theta=0\n",
    "            else:\n",
    "                theta=math.pi/2\n",
    "        elif x<0 :#为了能表示出二三象限的角度\n",
    "            theta=math.atan(y/x)+math.pi\n",
    "        else:\n",
    "            theta=math.atan(y/x)\n",
    "        \n",
    "        if r==0:\n",
    "            fai=0\n",
    "        else:\n",
    "            fai=math.acos(z/r)\n",
    "        normalize_3D_ball[i]=np.array([r,theta,fai])\n",
    "    return normalize_3D_ball"
   ]
  },
  {
   "cell_type": "code",
   "execution_count": null,
   "metadata": {
    "ExecuteTime": {
     "start_time": "2019-04-29T11:06:44.661Z"
    }
   },
   "outputs": [],
   "source": [
    "# 变形后直角坐标系上的 3D 特征点 ball_delta_to_xyz\n",
    "def ball_delta_to_xyz(normalize_3D_ball,Delta):\n",
    "    normalize_3D_xyz_delta=np.zeros(normalize_3D_ball.shape)\n",
    "    for i in range(normalize_3D_ball.shape[0]):\n",
    "        r=normalize_3D_ball[i][0]\n",
    "        theta=normalize_3D_ball[i][1]\n",
    "        fai=normalize_3D_ball[i][2]\n",
    "        delta_theta=Delta[i][0]\n",
    "        delta_fai=Delta[i][1]\n",
    "        x=r*math.sin(fai+delta_fai)*math.cos(theta+delta_theta)#+ball_center[0]\n",
    "        y=r*math.sin(fai+delta_fai)*math.sin(theta+delta_theta)#+ball_center[1]\n",
    "        z=r*math.cos(fai)#+ball_center[2]\n",
    "        normalize_3D_xyz_delta[i]=np.array([x,y,z])\n",
    "    return normalize_3D_xyz_delta"
   ]
  },
  {
   "cell_type": "code",
   "execution_count": null,
   "metadata": {
    "ExecuteTime": {
     "start_time": "2019-04-29T11:06:44.871Z"
    }
   },
   "outputs": [],
   "source": [
    "#------------------------------test---------------------------------\n",
    "normalize_3D_ball=xyz_to_ball(normalize_3D,ball_center)\n",
    "Delta=np.zeros((4,2))\n",
    "normalize_3D_xyz_opt=ball_delta_to_xyz(normalize_3D_ball,Delta)\n",
    "print('normalize_3D=\\n',normalize_3D)\n",
    "print('normalize_3D_ball=\\n',normalize_3D_ball)\n",
    "print('\\nnormalize_3D_xyz_opt=\\n',normalize_3D_xyz_opt)\n",
    "#------------------------------test---------------------------------\n",
    "bx = plt.subplot(111, projection='3d')\n",
    "bx.scatter(normalize_3D_xyz_opt.T[0],normalize_3D_xyz_opt.T[1],normalize_3D_xyz_opt.T[2])\n",
    "bx.scatter(normalize_2D.T[0],normalize_2D.T[1])\n",
    "plt.title('normalize_3D / normalize_2D')\n",
    "plt.show()"
   ]
  },
  {
   "cell_type": "code",
   "execution_count": null,
   "metadata": {
    "ExecuteTime": {
     "start_time": "2019-04-29T11:06:45.084Z"
    }
   },
   "outputs": [],
   "source": [
    "#Delta进行格式转换，将送入优化器的（12，）转换成（3，4）\n",
    "def get_Delta_convert(Delta):\n",
    "    return np.array([Delta[0:4],Delta[4:8]]).T"
   ]
  },
  {
   "cell_type": "code",
   "execution_count": null,
   "metadata": {
    "ExecuteTime": {
     "start_time": "2019-04-29T11:06:45.227Z"
    }
   },
   "outputs": [],
   "source": [
    "# 定义送入优化器的修正的目标函数\n",
    "def f(Delta):\n",
    "    a=1\n",
    "    Delta=get_Delta_convert(Delta)\n",
    "    normalize_3D_xyz_delta=ball_delta_to_xyz(normalize_3D_ball,Delta)\n",
    "    disparity = (normalize_2D - np.dot(normalize_3D_xyz_delta, P.T)).T # disparity:d=b-P*a\n",
    "    objective = np.sum(disparity ** 2)  # 目标函数\n",
    "    penalty =np.sum((normalize_3D_xyz_delta-normalize_3D)**2)# 惩罚函数\n",
    "    revised_objective =  objective + a *penalty  # 修正的目标函数\n",
    "    return revised_objective"
   ]
  },
  {
   "cell_type": "code",
   "execution_count": null,
   "metadata": {
    "ExecuteTime": {
     "start_time": "2019-04-29T11:06:45.402Z"
    },
    "scrolled": false
   },
   "outputs": [],
   "source": [
    "#-----------------test-main---------------------------------------------\n",
    "label=[-3.64614,-17.1319,-2.81734]\n",
    "label_02=[-10.3737,-7.72744,2.86461]\n",
    "label_20=[-11.1298,14.6895,-3.71618]\n",
    "img_with_line, img_with_line_opt=HeadPose(img)\n",
    "plt.subplot(1,2,1)\n",
    "plt.imshow(img_with_line)\n",
    "plt.subplot(1,2,2)\n",
    "plt.imshow(img_with_line_opt)\n",
    "plt.show()"
   ]
  },
  {
   "cell_type": "code",
   "execution_count": null,
   "metadata": {
    "ExecuteTime": {
     "start_time": "2019-04-29T11:06:45.588Z"
    }
   },
   "outputs": [],
   "source": [
    "#------------------------------test---------------------------------\n",
    "#Delta=np.random.random(normalize_3D.shape[0])\n",
    "Delta=np.zeros((4,2))#初始化\n",
    "Delta_opt=scipy.optimize.fmin_cg(f, Delta,gtol=1e-10)#共轭梯度下降法\n",
    "Delta_opt=get_Delta_convert(Delta_opt)\n",
    "#K_opt=scipy.optimize.leastsq(f, K,gtol=1e-5)#Levenberg–Marquardt算法\n",
    "print('Delta_opt=\\n',Delta_opt)"
   ]
  },
  {
   "cell_type": "code",
   "execution_count": null,
   "metadata": {
    "ExecuteTime": {
     "start_time": "2019-04-29T11:06:45.738Z"
    }
   },
   "outputs": [],
   "source": [
    "#------------------------------test---------------------------------\n",
    "normalize_3D_xyz_delta_opt=ball_delta_to_xyz(normalize_3D_ball,Delta_opt)\n",
    "cx = plt.subplot(111, projection='3d')\n",
    "cx.scatter(normalize_3D_xyz_delta_opt.T[0],normalize_3D_xyz_delta_opt.T[1],normalize_3D_xyz_delta_opt.T[2])\n",
    "cx.scatter(normalize_2D.T[0],normalize_2D.T[1])\n",
    "plt.title('normalize_3D_xyz_delta_opt / normalize_2D')\n",
    "plt.show()"
   ]
  },
  {
   "cell_type": "markdown",
   "metadata": {},
   "source": [
    "## 6.计算Delta修正后的最优投影矩阵"
   ]
  },
  {
   "cell_type": "code",
   "execution_count": null,
   "metadata": {
    "ExecuteTime": {
     "start_time": "2019-04-29T11:06:46.057Z"
    }
   },
   "outputs": [],
   "source": [
    "# 得到Delta修正后的最优投影矩阵\n",
    "def get_P_Delta_opt(normalize_2D, normalize_3D_xyz_delta_opt):\n",
    "    '''\n",
    "    计算Delta修正后的最优投影矩阵\n",
    "    :param normalize_2D: 归一化2D特征点\n",
    "    :param normalize_3D_xyz_delta_opt: Delta修正的3D模型\n",
    "    :return:最优投影矩阵\n",
    "    '''\n",
    "    P_Delta_opt = np.dot(np.dot(normalize_2D.T, normalize_3D_xyz_delta_opt),\\\n",
    "                         np.linalg.pinv(np.dot(normalize_3D_xyz_delta_opt.T, normalize_3D_xyz_delta_opt)))\n",
    "    return P_Delta_opt"
   ]
  },
  {
   "cell_type": "code",
   "execution_count": null,
   "metadata": {
    "ExecuteTime": {
     "start_time": "2019-04-29T11:06:46.514Z"
    }
   },
   "outputs": [],
   "source": [
    "#------------------------------test---------------------------------\n",
    "P_Delta_opt=get_P_Delta_opt(normalize_2D, normalize_3D_xyz_delta_opt)\n",
    "P_Delta_opt"
   ]
  },
  {
   "cell_type": "markdown",
   "metadata": {},
   "source": [
    "## 7.计算欧拉角"
   ]
  },
  {
   "cell_type": "code",
   "execution_count": null,
   "metadata": {
    "ExecuteTime": {
     "start_time": "2019-04-29T11:06:47.309Z"
    }
   },
   "outputs": [],
   "source": [
    "# 由最优投影矩阵计算欧拉角\n",
    "def get_euler_angle(P_Delta_opt):\n",
    "    '''\n",
    "    由最优投影矩阵计算欧拉角\n",
    "    :param P_Delta_opt: 最优投影矩阵\n",
    "    :return: 欧拉角\n",
    "    '''\n",
    "    pose = np.array([0.0, 0.0, 0.0])  # (theta x,y,z)\n",
    "    r1 = P_Delta_opt[0]\n",
    "    r2 = P_Delta_opt[1]\n",
    "    r3 = np.cross(r1, r2)\n",
    "    #print('r3=', r3)\n",
    "    pose[0] = -math.atan(r3[1] / r3[2]) / math.pi * 180.0#论文和data的参考系不一致，前面加负号和data一致\n",
    "    pose[1] = -math.atan(r3[0] / (r3[1] ** 2 + r3[2] ** 2) ** 0.5) / math.pi * 180.0\n",
    "    pose[2] = -math.atan(r2[0] / r1[0]) / math.pi * 180.0 #论文和data的参考系不一致，前面加负号和data一致\n",
    "    return pose"
   ]
  },
  {
   "cell_type": "code",
   "execution_count": null,
   "metadata": {
    "ExecuteTime": {
     "start_time": "2019-04-29T11:06:47.801Z"
    }
   },
   "outputs": [],
   "source": [
    "#------------------------------test---------------------------------\n",
    "pose=get_euler_angle(P)\n",
    "l=get_loss(pose,label)\n",
    "print('pose=',l)"
   ]
  },
  {
   "cell_type": "code",
   "execution_count": null,
   "metadata": {
    "ExecuteTime": {
     "start_time": "2019-04-29T11:06:48.209Z"
    }
   },
   "outputs": [],
   "source": [
    "#-----------------test----------------------------------------------\n",
    "img=annotate_points(img,points_2D)\n",
    "img_with_line=draw_line(img,points_2D,P_Delta_opt)\n",
    "plt.imshow(img_with_line)\n",
    "plt.show()"
   ]
  },
  {
   "cell_type": "markdown",
   "metadata": {},
   "source": [
    "## 主函数"
   ]
  },
  {
   "cell_type": "code",
   "execution_count": null,
   "metadata": {
    "ExecuteTime": {
     "start_time": "2019-04-29T11:06:49.028Z"
    }
   },
   "outputs": [],
   "source": [
    "#损失函数\n",
    "def get_loss(pose,label):\n",
    "    return np.sum(np.abs(pose-label))"
   ]
  },
  {
   "cell_type": "code",
   "execution_count": null,
   "metadata": {
    "ExecuteTime": {
     "start_time": "2019-04-29T11:06:49.513Z"
    }
   },
   "outputs": [],
   "source": [
    "def HeadPose(img):\n",
    "    points_2D=get_points_2D(img)\n",
    "    points_3D=model_3D()\n",
    "    #img=annotate_points(img,points_2D)\n",
    "    \n",
    "    normalize_3D,center_3D, L_3D=get_normalize(points_3D)\n",
    "    normalize_2D,center_2D, L_2D=get_normalize(points_2D)\n",
    "    \n",
    "    P=get_P_matrix(normalize_3D,normalize_2D)\n",
    "    pose=get_euler_angle(P)\n",
    "    img_with_line=draw_line(img,points_2D,P)\n",
    "    \n",
    "    ball_center=get_ball_center(normalize_3D)\n",
    "    normalize_3D_ball=xyz_to_ball(normalize_3D,ball_center)\n",
    "    \n",
    "    Delta=np.zeros((4,2))#初始化\n",
    "    Delta_opt=scipy.optimize.fmin_cg(f, Delta,gtol=1e-10)#共轭梯度下降法\n",
    "    Delta_opt=get_Delta_convert(Delta_opt)\n",
    "    \n",
    "    normalize_3D_xyz_delta_opt=ball_delta_to_xyz(normalize_3D_ball,Delta_opt)\n",
    "    \n",
    "    P_Delta_opt=get_P_Delta_opt(normalize_2D, normalize_3D_xyz_delta_opt)\n",
    "    \n",
    "    pose_opt=get_euler_angle(P_Delta_opt)\n",
    "    img_with_line_opt=draw_line(img,points_2D,P_Delta_opt)\n",
    "    \n",
    "    print('normalize_2D=\\n',normalize_2D)\n",
    "    print('\\nnormalize_3D=\\n',normalize_3D)\n",
    "    print(\"\\nP=\",P)\n",
    "    print('\\nDelta_opt=',Delta_opt)\n",
    "    print('\\nnormalize_3D_xyz_delta_opt=\\n',normalize_3D_xyz_delta_opt)\n",
    "    print('\\nP_Delta_opt=\\n',P_Delta_opt)\n",
    "    print('Delta_opt=',Delta_opt)\n",
    "    print('\\nlabel=',label)\n",
    "    print('\\npose=',pose)\n",
    "    print('loss=',get_loss(pose,label))\n",
    "    print('\\npose_opt=',pose_opt)\n",
    "    print('loss=',get_loss(pose_opt,label))\n",
    "    \n",
    "    return img_with_line,img_with_line_opt"
   ]
  },
  {
   "cell_type": "code",
   "execution_count": null,
   "metadata": {
    "ExecuteTime": {
     "start_time": "2019-04-29T11:06:50.116Z"
    }
   },
   "outputs": [],
   "source": [
    "#-----------------test-main---------------------------------------------\n",
    "label=[-3.64614,-17.1319,-2.81734]\n",
    "label_02=[-10.3737,-7.72744,2.86461]\n",
    "label_20=[-11.1298,14.6895,-3.71618]\n",
    "img_with_line, img_with_line_opt=HeadPose(img)\n",
    "plt.subplot(1,2,1)\n",
    "plt.imshow(img_with_line)\n",
    "plt.subplot(1,2,2)\n",
    "plt.imshow(img_with_line_opt)\n",
    "plt.show()"
   ]
  },
  {
   "cell_type": "code",
   "execution_count": null,
   "metadata": {},
   "outputs": [],
   "source": []
  }
 ],
 "metadata": {
  "kernelspec": {
   "display_name": "Python 3",
   "language": "python",
   "name": "python3"
  },
  "toc": {
   "base_numbering": 1,
   "nav_menu": {},
   "number_sections": true,
   "sideBar": true,
   "skip_h1_title": false,
   "title_cell": "Table of Contents",
   "title_sidebar": "Contents",
   "toc_cell": false,
   "toc_position": {},
   "toc_section_display": true,
   "toc_window_display": false
  },
  "varInspector": {
   "cols": {
    "lenName": 16,
    "lenType": 16,
    "lenVar": 40
   },
   "kernels_config": {
    "python": {
     "delete_cmd_postfix": "",
     "delete_cmd_prefix": "del ",
     "library": "var_list.py",
     "varRefreshCmd": "print(var_dic_list())"
    },
    "r": {
     "delete_cmd_postfix": ") ",
     "delete_cmd_prefix": "rm(",
     "library": "var_list.r",
     "varRefreshCmd": "cat(var_dic_list()) "
    }
   },
   "types_to_exclude": [
    "module",
    "function",
    "builtin_function_or_method",
    "instance",
    "_Feature"
   ],
   "window_display": false
  }
 },
 "nbformat": 4,
 "nbformat_minor": 2
}
