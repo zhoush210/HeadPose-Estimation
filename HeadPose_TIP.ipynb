{
 "cells": [
  {
   "cell_type": "code",
   "execution_count": null,
   "metadata": {
    "ExecuteTime": {
     "start_time": "2019-04-29T11:20:47.050Z"
    }
   },
   "outputs": [],
   "source": [
    "# coding=utf-8\n",
    "from matplotlib import pyplot as plt\n",
    "import cv2\n",
    "import numpy as np\n",
    "import dlib\n",
    "import time\n",
    "import math\n",
    "from mpl_toolkits.mplot3d import Axes3D\n",
    "import scipy\n",
    "from scipy.optimize import *"
   ]
  },
  {
   "cell_type": "code",
   "execution_count": null,
   "metadata": {
    "ExecuteTime": {
     "start_time": "2019-04-29T11:20:47.955Z"
    }
   },
   "outputs": [],
   "source": [
    "detector = dlib.get_frontal_face_detector()\n",
    "predictor = dlib.shape_predictor(\"shape_predictor_68_face_landmarks.dat\")\n",
    "POINTS_NUM_LANDMARK = 68"
   ]
  },
  {
   "cell_type": "markdown",
   "metadata": {},
   "source": [
    "# dlib提取2D图片7个特征点"
   ]
  },
  {
   "cell_type": "code",
   "execution_count": null,
   "metadata": {
    "ExecuteTime": {
     "start_time": "2019-04-29T11:20:48.593Z"
    }
   },
   "outputs": [],
   "source": [
    "# 获取最大的人脸(get_landmark7函数内调用)\n",
    "def largest_face(faces):\n",
    "    '''\n",
    "    求最大的人脸\n",
    "    :param faces:detectors检测到的多个人脸的array\n",
    "    :return:最大人脸的index\n",
    "    '''\n",
    "    if len(faces) == 1:\n",
    "        return 0\n",
    "    face_areas = [(face.right() - face.left()) * (face.bottom() - face.top()) for face in faces]  # 求脸的大小\n",
    "    largest_area = face_areas[0]\n",
    "    largest_index = 0\n",
    "    for index in range(1, len(faces)):  # 取最大的脸\n",
    "        if face_areas[index] > largest_area:\n",
    "            largest_index = index\n",
    "            largest_area = face_areas[index]\n",
    "    print(\"largest_face index is {} in {} faces\".format(largest_index, len(faces)))\n",
    "    return largest_index"
   ]
  },
  {
   "cell_type": "code",
   "execution_count": null,
   "metadata": {
    "ExecuteTime": {
     "start_time": "2019-04-29T11:20:48.756Z"
    }
   },
   "outputs": [],
   "source": [
    "# 提取68个特征点(get_landmark7函数内调用)\n",
    "def get_landmarks68(img):\n",
    "    '''\n",
    "    用dlib提取68个特征点\n",
    "    :param img: 输入图像\n",
    "    :return: 68个点的坐标，shape=(68，2)\n",
    "    '''\n",
    "    rects = detector(img, 1)\n",
    "    if len(rects) == 0:\n",
    "        return -1\n",
    "    return np.matrix([[p.x, p.y] for p in predictor(img, rects[0]).parts()])"
   ]
  },
  {
   "cell_type": "code",
   "execution_count": null,
   "metadata": {
    "ExecuteTime": {
     "start_time": "2019-04-29T11:20:48.964Z"
    }
   },
   "outputs": [],
   "source": [
    "# 注释68个标记点(测试用)\n",
    "def annotate_landmarks68(im):\n",
    "    '''\n",
    "    注释68个标记点\n",
    "    :param im: 输入图片\n",
    "    :return: 带有68个标记点的图片\n",
    "    '''\n",
    "    img = im.copy()\n",
    "    landmarks68 = get_landmarks68(img)\n",
    "    for idx, point in enumerate(landmarks68):\n",
    "        pos = (point[0, 0], point[0, 1])\n",
    "        # cv2.putText(img, str(idx), pos,fontFace=cv2.FONT_HERSHEY_SCRIPT_SIMPLEX,fontScale=0.4,color=(0, 0, 255))\n",
    "        cv2.circle(img, pos, 3, color=(0, 255, 255))\n",
    "    return img"
   ]
  },
  {
   "cell_type": "code",
   "execution_count": null,
   "metadata": {
    "ExecuteTime": {
     "start_time": "2019-04-29T11:20:49.146Z"
    }
   },
   "outputs": [],
   "source": [
    "# 选取dlib检测的68点中的7个特征点\n",
    "def get_landmark7(img):\n",
    "    '''\n",
    "    用dlib获取人脸7个特征点\n",
    "    :param img: 输入图片\n",
    "    :return: 人脸7特征点的矩阵shape=(7,2)，若未检测到人脸，返回None\n",
    "    '''\n",
    "    faces = detector(img, 0)  # 检测图片中的所有人脸,网上都是1，cvdlib中是0\n",
    "    if len(faces) == 0:  # 没有检测到人脸\n",
    "        print(\"ERROR: found no face\")\n",
    "        return None\n",
    "    largest_index = largest_face(faces)  # 取最大人脸\n",
    "    face_rectangle = faces[largest_index]  # 取对应人脸框\n",
    "    landmark68 = predictor(img, face_rectangle)  # dlib检测人脸特征68点\n",
    "    landmark7 = np.array([  # 取出68点中所需的7个点\n",
    "        (landmark68.part(36).x, landmark68.part(36).y),  # 左眼左眼角\n",
    "        (landmark68.part(39).x, landmark68.part(39).y),  # 左眼右眼角\n",
    "        (landmark68.part(42).x, landmark68.part(42).y),  # 右眼左眼角\n",
    "        (landmark68.part(45).x, landmark68.part(45).y),  # 右眼右眼角\n",
    "        (landmark68.part(30).x, landmark68.part(30).y),  # 鼻尖\n",
    "        (landmark68.part(48).x, landmark68.part(48).y),  # 左嘴角\n",
    "        (landmark68.part(54).x, landmark68.part(54).y)  # 右嘴角\n",
    "    ], dtype=\"double\")\n",
    "    return landmark7"
   ]
  },
  {
   "cell_type": "code",
   "execution_count": null,
   "metadata": {
    "ExecuteTime": {
     "start_time": "2019-04-29T11:20:49.260Z"
    }
   },
   "outputs": [],
   "source": [
    "#-------------test--------------------------------------------------\n",
    "#读取图像\n",
    "img0 = cv2.imread('19.jpg')\n",
    "img0=cv2.resize(img0,(225,225))\n",
    "img = img0[:,:,::-1] # 调节色彩通道\n",
    "a=annotate_landmarks68(img)\n",
    "plt.imshow(a)\n",
    "plt.show()"
   ]
  },
  {
   "cell_type": "code",
   "execution_count": null,
   "metadata": {
    "ExecuteTime": {
     "start_time": "2019-04-29T11:20:49.437Z"
    }
   },
   "outputs": [],
   "source": [
    "#-------------------------test--------------------------------------\n",
    "points_2D=get_landmark7(img)\n",
    "print(points_2D.shape)\n",
    "plt.scatter(points_2D.T[0],points_2D.T[1])\n",
    "plt.title('points_2D')\n",
    "plt.show()"
   ]
  },
  {
   "cell_type": "markdown",
   "metadata": {},
   "source": [
    "# 手动构建7点人脸3D模型"
   ]
  },
  {
   "cell_type": "code",
   "execution_count": null,
   "metadata": {
    "ExecuteTime": {
     "start_time": "2019-04-29T11:20:50.045Z"
    }
   },
   "outputs": [],
   "source": [
    "# 手动构建7点人脸3D模型\n",
    "def model_3D():\n",
    "    '''\n",
    "    手动构建7点人脸3D模型，以鼻尖为坐标原点\n",
    "    :return: 3D模型7点矩阵 shape=(7,3)\n",
    "    '''\n",
    "    points_3D = np.array([\n",
    "        (-225.0, -170.0, -135.0),  # 左眼左眼角\n",
    "        (-75.0, -170.0, -135.0),  # 左眼右眼角，自己定的\n",
    "        (75.0, -170.0, -135.0),  # 右眼左眼角，自己定的\n",
    "        (225.0, -170.0, -135.0),  # 右眼右眼角\n",
    "        (0.0, 0.0, 0.0),  # 鼻尖\n",
    "        (-150.0, 150.0, -125.0),  # 左嘴角\n",
    "        (150.0, 150.0, -125.0)  # 右嘴角\n",
    "    ])\n",
    "    return points_3D"
   ]
  },
  {
   "cell_type": "code",
   "execution_count": null,
   "metadata": {
    "ExecuteTime": {
     "start_time": "2019-04-29T11:20:50.202Z"
    }
   },
   "outputs": [],
   "source": [
    "#---------------------------test------------------------------------\n",
    "points_3D=model_3D()\n",
    "#print(points_3D)\n",
    "ax = plt.subplot(111, projection='3d')\n",
    "ax.scatter(points_3D.T[0],points_3D.T[1],points_3D.T[2])\n",
    "plt.title('points_3D')\n",
    "plt.show()"
   ]
  },
  {
   "cell_type": "markdown",
   "metadata": {},
   "source": [
    "# 归一化,去掉平移因子的影响"
   ]
  },
  {
   "cell_type": "code",
   "execution_count": null,
   "metadata": {
    "ExecuteTime": {
     "start_time": "2019-04-29T11:20:50.562Z"
    }
   },
   "outputs": [],
   "source": [
    "# 归一化点\n",
    "def get_normalize(points):\n",
    "    '''\n",
    "    归一化点\n",
    "    :param 手动构建的3D模型(points_3D) 或 dlib检测到的7个特征点(points_2D)\n",
    "    :return: 归一化后的点矩阵\n",
    "    '''\n",
    "    center = np.sum(points, axis=0) / points.shape[0]  # 中心\n",
    "    L = np.sum(np.sum((points - center) ** 2, axis=1) ** 0.5)  # 归一化系数\n",
    "    normalize = (points - center) / L\n",
    "    return normalize, center, L"
   ]
  },
  {
   "cell_type": "code",
   "execution_count": null,
   "metadata": {
    "ExecuteTime": {
     "start_time": "2019-04-29T11:20:50.772Z"
    }
   },
   "outputs": [],
   "source": [
    "#------------------------------test---------------------------------\n",
    "normalize_3D,center_3D, L_3D=get_normalize(points_3D)\n",
    "normalize_2D,center_2D, L_2D=get_normalize(points_2D)\n",
    "print('normalize_3D=\\n',normalize_3D)\n",
    "print('normalize_2D=\\n',normalize_2D)\n",
    "bx = plt.subplot(111, projection='3d')\n",
    "bx.scatter(normalize_3D.T[0],normalize_3D.T[1],normalize_3D.T[2])\n",
    "bx.scatter(normalize_2D.T[0],normalize_2D.T[1])\n",
    "plt.title('normalize_3D / normalize_2D')\n",
    "plt.show()"
   ]
  },
  {
   "cell_type": "markdown",
   "metadata": {},
   "source": [
    "# 求投影矩阵P"
   ]
  },
  {
   "cell_type": "code",
   "execution_count": null,
   "metadata": {
    "ExecuteTime": {
     "start_time": "2019-04-29T11:20:51.262Z"
    }
   },
   "outputs": [],
   "source": [
    "# 求投影矩阵P\n",
    "def get_P_matrix(normalize_3D, normalize_2D):\n",
    "    num = normalize_2D.shape[0]\n",
    "    _ = 0  # _是要舍弃的值\n",
    "    if num < 3:\n",
    "        return -1\n",
    "    elif num == 3:\n",
    "        _, r1_T = cv2.solve(normalize_3D.T, normalize_2D.T[0], _)\n",
    "        _, r2_T = cv2.solve(normalize_3D.T,normalize_2D.T[1], _)\n",
    "    else:\n",
    "        _, r1_T = cv2.solve(normalize_3D, normalize_2D.T[0], _, cv2.DECOMP_SVD)  # 奇异值分解\n",
    "        _, r2_T = cv2.solve(normalize_3D, normalize_2D.T[1], _, cv2.DECOMP_SVD)\n",
    "    r1 = r1_T.T[0]\n",
    "    r2 = r2_T.T[0]\n",
    "    r3 = np.cross(r1, r2)\n",
    "    P = np.array([r1, r2])\n",
    "    return P"
   ]
  },
  {
   "cell_type": "code",
   "execution_count": null,
   "metadata": {
    "ExecuteTime": {
     "start_time": "2019-04-29T11:20:51.441Z"
    }
   },
   "outputs": [],
   "source": [
    "#------------------------------test---------------------------------\n",
    "P=get_P_matrix(normalize_3D,normalize_2D)\n",
    "print('P=\\n',P)"
   ]
  },
  {
   "cell_type": "markdown",
   "metadata": {},
   "source": [
    "## 5.优化K"
   ]
  },
  {
   "cell_type": "code",
   "execution_count": null,
   "metadata": {
    "ExecuteTime": {
     "start_time": "2019-04-29T11:20:52.159Z"
    }
   },
   "outputs": [],
   "source": [
    "# 定义送入优化器的修正的目标函数\n",
    "def f(K):\n",
    "    '''\n",
    "    修正的目标函数\n",
    "    :param K: 待优化的参数,K*Z中的K\n",
    "    :return: 修正的目标函数的值\n",
    "    '''\n",
    "    a=0.00000001\n",
    "    normalize_3D_K=get_normalize_3D_K(normalize_3D,K)\n",
    "    disparity = (normalize_2D - np.dot(normalize_3D_K, P.T)).T  # disparity:d=b-P*a\n",
    "    objective = np.sum(disparity ** 2)  # 目标函数\n",
    "    penalty = np.sum((np.ones(K.shape[0]) - K) ** 2 * normalize_3D.T[2] ** 2)  # 惩罚函数\n",
    "    revised_objective = objective + a * penalty  # 修正的目标函数\n",
    "    return revised_objective"
   ]
  },
  {
   "cell_type": "code",
   "execution_count": null,
   "metadata": {
    "ExecuteTime": {
     "start_time": "2019-04-29T11:20:52.516Z"
    },
    "scrolled": false
   },
   "outputs": [],
   "source": [
    "#------------------------------test---------------------------------\n",
    "#K=np.random.random(normalize_3D.shape[0])\n",
    "K=[0,0,0,0,0,0,0]#随机初始化\n",
    "K_opt=scipy.optimize.fmin_cg(f, K,gtol=1e-20)#共轭梯度下降法\n",
    "#K_opt=scipy.optimize.leastsq(f, K,gtol=1e-5)#Levenberg–Marquardt算法\n",
    "print('K_opt=\\n',K_opt)"
   ]
  },
  {
   "cell_type": "code",
   "execution_count": null,
   "metadata": {
    "ExecuteTime": {
     "start_time": "2019-04-29T11:20:52.823Z"
    }
   },
   "outputs": [],
   "source": [
    "# 得到K修正后的3D模型(A_K)\n",
    "def get_normalize_3D_K(normalize_3D, K_opt):\n",
    "    '''\n",
    "    计算经K修正的3D模型\n",
    "    :param normalize_3D: 归一化的3D模型\n",
    "    :param K_opt: 最优化K\n",
    "    :return: K修正的3D模型\n",
    "    '''\n",
    "    normalize_3D_K = np.array([normalize_3D.T[0], normalize_3D.T[1], normalize_3D.T[2] * K_opt])\n",
    "    return normalize_3D_K.T"
   ]
  },
  {
   "cell_type": "code",
   "execution_count": null,
   "metadata": {
    "ExecuteTime": {
     "start_time": "2019-04-29T11:20:53.344Z"
    }
   },
   "outputs": [],
   "source": [
    "#------------------------------test---------------------------------\n",
    "normalize_3D_K=get_normalize_3D_K(normalize_3D,K_opt)\n",
    "cx = plt.subplot(111, projection='3d')\n",
    "cx.scatter(normalize_3D_K.T[0],normalize_3D_K.T[1],normalize_3D_K.T[2])\n",
    "cx.scatter(normalize_2D.T[0],normalize_2D.T[1])\n",
    "plt.title('normalize_3D_K / normalize_2D')\n",
    "plt.show()"
   ]
  },
  {
   "cell_type": "markdown",
   "metadata": {},
   "source": [
    "## 6.计算K修正后的最优投影矩阵"
   ]
  },
  {
   "cell_type": "code",
   "execution_count": null,
   "metadata": {
    "ExecuteTime": {
     "start_time": "2019-04-29T11:20:54.189Z"
    }
   },
   "outputs": [],
   "source": [
    "# 得到K修正后的最优投影矩阵\n",
    "def get_P_K_opt(normalize_2D, normalize_3D_K):\n",
    "    '''\n",
    "    计算K修正后的最优投影矩阵\n",
    "    :param normalize_2D: 归一化2D特征点\n",
    "    :param normalize_3D_K: 归一化K修正3D模型\n",
    "    :return:最优投影矩阵\n",
    "    '''\n",
    "    P_K_opt = np.dot(np.dot(normalize_2D.T, normalize_3D_K), np.linalg.pinv(np.dot(normalize_3D_K.T, normalize_3D_K)))\n",
    "    return P_K_opt"
   ]
  },
  {
   "cell_type": "code",
   "execution_count": null,
   "metadata": {
    "ExecuteTime": {
     "start_time": "2019-04-29T11:20:54.575Z"
    }
   },
   "outputs": [],
   "source": [
    "#------------------------------test---------------------------------\n",
    "P_K_opt=get_P_K_opt(normalize_2D,normalize_3D_K)\n",
    "print('P_K_opt=\\n',P_K_opt)"
   ]
  },
  {
   "cell_type": "code",
   "execution_count": null,
   "metadata": {
    "ExecuteTime": {
     "start_time": "2019-04-29T11:20:54.958Z"
    }
   },
   "outputs": [],
   "source": [
    "#------------------------------test---------------------------------\n",
    "P_K_opt=get_P_K_opt(normalize_2D,normalize_3D_K)\n",
    "print('P_K_opt=\\n',P_K_opt)"
   ]
  },
  {
   "cell_type": "markdown",
   "metadata": {},
   "source": [
    "## 7.根据最优投影矩阵计算欧拉角"
   ]
  },
  {
   "cell_type": "code",
   "execution_count": null,
   "metadata": {
    "ExecuteTime": {
     "start_time": "2019-04-29T11:20:55.652Z"
    }
   },
   "outputs": [],
   "source": [
    "# 由最优投影矩阵计算欧拉角\n",
    "def get_euler_angle(P_K_opt):\n",
    "    '''\n",
    "    由最优投影矩阵计算欧拉角\n",
    "    :param P_opt: 最优投影矩阵\n",
    "    :return: 欧拉角\n",
    "    '''\n",
    "    theta = np.array([0, 0, 0])  # (theta x,y,z)\n",
    "    r1 = P_K_opt[0]\n",
    "    r2 = P_K_opt[1]\n",
    "    r3 = np.cross(r1, r2)\n",
    "    #print('r3=', r3)\n",
    "    theta[0] = -math.atan(r3[1] / r3[2]) / math.pi * 180#论文和data的参考系不一致，前面加负号和data一致\n",
    "    theta[1] = -math.atan(r3[0] / (r3[1] ** 2 + r3[2] ** 2) ** 0.5) / math.pi * 180\n",
    "    theta[2] = -math.atan(r2[0] / r1[0]) / math.pi * 180 #论文和data的参考系不一致，前面加负号和data一致\n",
    "    return theta"
   ]
  },
  {
   "cell_type": "code",
   "execution_count": null,
   "metadata": {
    "ExecuteTime": {
     "start_time": "2019-04-29T11:20:55.964Z"
    }
   },
   "outputs": [],
   "source": [
    "#------------------------------test---------------------------------\n",
    "theta=get_euler_angle(P_K_opt)\n",
    "print('theta=',theta)"
   ]
  },
  {
   "cell_type": "markdown",
   "metadata": {},
   "source": [
    "## 8.画表示姿势的线"
   ]
  },
  {
   "cell_type": "code",
   "execution_count": null,
   "metadata": {
    "ExecuteTime": {
     "start_time": "2019-04-29T11:20:56.752Z"
    }
   },
   "outputs": [],
   "source": [
    "# 画表示姿势的线\n",
    "def draw_line(img, points_2D,P_K_opt):\n",
    "    '''\n",
    "    画表示姿势的线\n",
    "    :param img: 输入图片\n",
    "    :param points_2D: dlib提取的2D特征点\n",
    "    :return: 画有姿势线的图片\n",
    "    '''\n",
    "    nose_tip_2D = (int(points_2D[4][0]), int(points_2D[4][1]))\n",
    "    far_3D = np.array([0.0, 0.0, 1000.0])\n",
    "    far_2D = np.dot(np.dot(P_K_opt, (far_3D - center_3D) / L_3D), L_2D) + center_2D\n",
    "    p1 = (int(nose_tip_2D[0]), int(nose_tip_2D[1]))\n",
    "    p2 = (int(far_2D[0]), int(far_2D[1]))\n",
    "    #print('p1=', p1, 'p2=', p2)\n",
    "    img_with_line = np.copy(img)\n",
    "    cv2.line(img_with_line, p1, p2, (255, 0, 0), 2)\n",
    "    return img_with_line"
   ]
  },
  {
   "cell_type": "code",
   "execution_count": null,
   "metadata": {
    "ExecuteTime": {
     "start_time": "2019-04-29T11:20:57.182Z"
    }
   },
   "outputs": [],
   "source": [
    "#-----------------test----------------------------------------------\n",
    "img_with_line=draw_line(img,points_2D,P_K_opt)\n",
    "plt.imshow(img_with_line)\n",
    "plt.show()"
   ]
  },
  {
   "cell_type": "markdown",
   "metadata": {},
   "source": [
    "# 头部姿势估计 main"
   ]
  },
  {
   "cell_type": "code",
   "execution_count": null,
   "metadata": {
    "ExecuteTime": {
     "start_time": "2019-04-29T11:20:58.042Z"
    }
   },
   "outputs": [],
   "source": [
    "# 主函数：头部姿势估计\n",
    "def HeadPose_TIP_KZ(img):\n",
    "    '''\n",
    "    头部姿势估计\n",
    "    :param img:输入图片 \n",
    "    :return: 标有姿势线的图片，欧拉角\n",
    "    '''\n",
    "    points_2D = get_landmark7(img)  # dlib检测7个特征点\n",
    "    points_3D = model_3D()  # 手动构建7点人脸3D模型\n",
    "\n",
    "    normalize_3D, center_3D, L_3D = get_normalize(points_3D)  # 归一化\n",
    "    normalize_2D, center_2D, L_2D = get_normalize(points_2D)\n",
    "\n",
    "    P = get_P_matrix(normalize_3D, normalize_2D)  # 投影矩阵P\n",
    "\n",
    "    # K=np.random.random(normalize_3D.shape[0])\n",
    "    K = [1, 2, 3, 0, -3, -1, -1]  # 随机初始化\n",
    "    K_opt = scipy.optimize.fmin_cg(f, K, gtol=1e-20)  # 共轭梯度下降法\n",
    "\n",
    "    normalize_3D_K = get_normalize_3D_K(normalize_3D, K_opt)  # K修正后的3D模型\n",
    "\n",
    "    P_K_opt = get_P_K_opt(normalize_2D, normalize_3D_K)  # K修正后的最优投影矩阵\n",
    "\n",
    "    theta = get_euler_angle(P_K_opt)  # 计算欧拉角\n",
    "\n",
    "    img_with_line = draw_line(img, points_2D, P_K_opt)  # 画表示姿势的线\n",
    "    \n",
    "    theta_str = 'Pitch:{}, Yaw:{}, Roll:{}'.format(theta[0],theta[1],theta[2])\n",
    "    cv2.putText(img_with_line,theta_str, (0, 15), cv2.FONT_HERSHEY_PLAIN, 1, (0, 0, 255), 1)\n",
    "    \n",
    "    return img_with_line, theta"
   ]
  },
  {
   "cell_type": "code",
   "execution_count": null,
   "metadata": {
    "ExecuteTime": {
     "start_time": "2019-04-29T11:20:59.308Z"
    },
    "scrolled": true
   },
   "outputs": [],
   "source": [
    "img_with_line, theta=HeadPose_TIP_KZ(img)\n",
    "plt.imshow(img_with_line)\n",
    "plt.show()"
   ]
  },
  {
   "cell_type": "code",
   "execution_count": null,
   "metadata": {},
   "outputs": [],
   "source": []
  },
  {
   "cell_type": "code",
   "execution_count": null,
   "metadata": {},
   "outputs": [],
   "source": []
  }
 ],
 "metadata": {
  "kernelspec": {
   "display_name": "Python 3",
   "language": "python",
   "name": "python3"
  },
  "language_info": {
   "codemirror_mode": {
    "name": "ipython",
    "version": 3
   },
   "file_extension": ".py",
   "mimetype": "text/x-python",
   "name": "python",
   "nbconvert_exporter": "python",
   "pygments_lexer": "ipython3",
   "version": "3.6.2"
  },
  "toc": {
   "base_numbering": 1.0,
   "nav_menu": {},
   "number_sections": true,
   "sideBar": true,
   "skip_h1_title": false,
   "title_cell": "Table of Contents",
   "title_sidebar": "Contents",
   "toc_cell": false,
   "toc_position": {},
   "toc_section_display": true,
   "toc_window_display": false
  },
  "varInspector": {
   "cols": {
    "lenName": 16.0,
    "lenType": 16.0,
    "lenVar": 40.0
   },
   "kernels_config": {
    "python": {
     "delete_cmd_postfix": "",
     "delete_cmd_prefix": "del ",
     "library": "var_list.py",
     "varRefreshCmd": "print(var_dic_list())"
    },
    "r": {
     "delete_cmd_postfix": ") ",
     "delete_cmd_prefix": "rm(",
     "library": "var_list.r",
     "varRefreshCmd": "cat(var_dic_list()) "
    }
   },
   "types_to_exclude": [
    "module",
    "function",
    "builtin_function_or_method",
    "instance",
    "_Feature"
   ],
   "window_display": false
  }
 },
 "nbformat": 4,
 "nbformat_minor": 2
}
